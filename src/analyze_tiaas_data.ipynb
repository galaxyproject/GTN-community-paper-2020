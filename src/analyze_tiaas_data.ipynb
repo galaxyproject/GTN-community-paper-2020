{
 "cells": [
  {
   "cell_type": "markdown",
   "metadata": {},
   "source": [
    "**Purpose:** Extract and plot the TIaaS stats"
   ]
  },
  {
   "cell_type": "code",
   "execution_count": 1,
   "metadata": {},
   "outputs": [],
   "source": [
    "import datetime\n",
    "import matplotlib.pyplot as plt\n",
    "import pandas as pd\n",
    "import pycountry_convert as pc"
   ]
  },
  {
   "cell_type": "code",
   "execution_count": 2,
   "metadata": {},
   "outputs": [],
   "source": [
    "continents = {\n",
    "    'NA': 'North America',\n",
    "    'SA': 'South America', \n",
    "    'AS': 'Asia',\n",
    "    'OC': 'Australia',\n",
    "    'AF': 'Africa',\n",
    "    'EU': 'Europe'\n",
    "}\n",
    "\n",
    "def get_continent(c):\n",
    "    '''Extract continent name from a country code'''\n",
    "    return continents[pc.country_alpha2_to_continent_code(c)]\n",
    "\n",
    "def get_continents(c):\n",
    "    '''Extract continent from country codes'''\n",
    "    if '|' in c:\n",
    "        cs = c.split('|')\n",
    "        return '|'.join(set([get_continent(d) for d in cs]))\n",
    "    else:\n",
    "        return get_continent(c)"
   ]
  },
  {
   "cell_type": "code",
   "execution_count": 3,
   "metadata": {},
   "outputs": [
    {
     "data": {
      "text/html": [
       "<div>\n",
       "<style scoped>\n",
       "    .dataframe tbody tr th:only-of-type {\n",
       "        vertical-align: middle;\n",
       "    }\n",
       "\n",
       "    .dataframe tbody tr th {\n",
       "        vertical-align: top;\n",
       "    }\n",
       "\n",
       "    .dataframe thead th {\n",
       "        text-align: right;\n",
       "    }\n",
       "</style>\n",
       "<table border=\"1\" class=\"dataframe\">\n",
       "  <thead>\n",
       "    <tr style=\"text-align: right;\">\n",
       "      <th></th>\n",
       "      <th>start</th>\n",
       "      <th>end</th>\n",
       "      <th>location</th>\n",
       "      <th>use_gtn</th>\n",
       "      <th>attendance</th>\n",
       "      <th>month</th>\n",
       "      <th>year</th>\n",
       "      <th>continent</th>\n",
       "    </tr>\n",
       "    <tr>\n",
       "      <th>id</th>\n",
       "      <th></th>\n",
       "      <th></th>\n",
       "      <th></th>\n",
       "      <th></th>\n",
       "      <th></th>\n",
       "      <th></th>\n",
       "      <th></th>\n",
       "      <th></th>\n",
       "    </tr>\n",
       "  </thead>\n",
       "  <tbody>\n",
       "    <tr>\n",
       "      <th>403</th>\n",
       "      <td>2021-04-26</td>\n",
       "      <td>2021-04-30</td>\n",
       "      <td>PK</td>\n",
       "      <td>False</td>\n",
       "      <td>50</td>\n",
       "      <td>2021-04</td>\n",
       "      <td>2021</td>\n",
       "      <td>Asia</td>\n",
       "    </tr>\n",
       "    <tr>\n",
       "      <th>322</th>\n",
       "      <td>2020-11-12</td>\n",
       "      <td>2020-11-30</td>\n",
       "      <td>FR</td>\n",
       "      <td>False</td>\n",
       "      <td>25</td>\n",
       "      <td>2020-11</td>\n",
       "      <td>2020</td>\n",
       "      <td>Europe</td>\n",
       "    </tr>\n",
       "    <tr>\n",
       "      <th>267</th>\n",
       "      <td>2020-02-21</td>\n",
       "      <td>2020-05-22</td>\n",
       "      <td>CZ</td>\n",
       "      <td>True</td>\n",
       "      <td>24</td>\n",
       "      <td>2020-02</td>\n",
       "      <td>2020</td>\n",
       "      <td>Europe</td>\n",
       "    </tr>\n",
       "    <tr>\n",
       "      <th>279</th>\n",
       "      <td>2020-05-18</td>\n",
       "      <td>2020-06-18</td>\n",
       "      <td>GB</td>\n",
       "      <td>True</td>\n",
       "      <td>40</td>\n",
       "      <td>2020-05</td>\n",
       "      <td>2020</td>\n",
       "      <td>Europe</td>\n",
       "    </tr>\n",
       "    <tr>\n",
       "      <th>326</th>\n",
       "      <td>2020-08-27</td>\n",
       "      <td>2020-12-17</td>\n",
       "      <td>US</td>\n",
       "      <td>False</td>\n",
       "      <td>12</td>\n",
       "      <td>2020-08</td>\n",
       "      <td>2020</td>\n",
       "      <td>North America</td>\n",
       "    </tr>\n",
       "    <tr>\n",
       "      <th>...</th>\n",
       "      <td>...</td>\n",
       "      <td>...</td>\n",
       "      <td>...</td>\n",
       "      <td>...</td>\n",
       "      <td>...</td>\n",
       "      <td>...</td>\n",
       "      <td>...</td>\n",
       "      <td>...</td>\n",
       "    </tr>\n",
       "    <tr>\n",
       "      <th>242</th>\n",
       "      <td>2019-12-02</td>\n",
       "      <td>2019-12-06</td>\n",
       "      <td>FR</td>\n",
       "      <td>False</td>\n",
       "      <td>17</td>\n",
       "      <td>2019-12</td>\n",
       "      <td>2019</td>\n",
       "      <td>Europe</td>\n",
       "    </tr>\n",
       "    <tr>\n",
       "      <th>389</th>\n",
       "      <td>2021-03-22</td>\n",
       "      <td>2021-03-23</td>\n",
       "      <td>UG</td>\n",
       "      <td>True</td>\n",
       "      <td>20</td>\n",
       "      <td>2021-03</td>\n",
       "      <td>2021</td>\n",
       "      <td>Africa</td>\n",
       "    </tr>\n",
       "    <tr>\n",
       "      <th>393</th>\n",
       "      <td>2021-04-26</td>\n",
       "      <td>2021-04-30</td>\n",
       "      <td>GB</td>\n",
       "      <td>True</td>\n",
       "      <td>35</td>\n",
       "      <td>2021-04</td>\n",
       "      <td>2021</td>\n",
       "      <td>Europe</td>\n",
       "    </tr>\n",
       "    <tr>\n",
       "      <th>371</th>\n",
       "      <td>2021-03-15</td>\n",
       "      <td>2021-04-10</td>\n",
       "      <td>FR</td>\n",
       "      <td>False</td>\n",
       "      <td>20</td>\n",
       "      <td>2021-03</td>\n",
       "      <td>2021</td>\n",
       "      <td>Europe</td>\n",
       "    </tr>\n",
       "    <tr>\n",
       "      <th>366</th>\n",
       "      <td>2021-01-13</td>\n",
       "      <td>2021-01-14</td>\n",
       "      <td>ES</td>\n",
       "      <td>True</td>\n",
       "      <td>26</td>\n",
       "      <td>2021-01</td>\n",
       "      <td>2021</td>\n",
       "      <td>Europe</td>\n",
       "    </tr>\n",
       "  </tbody>\n",
       "</table>\n",
       "<p>229 rows × 8 columns</p>\n",
       "</div>"
      ],
      "text/plain": [
       "         start        end location  use_gtn  attendance    month  year  \\\n",
       "id                                                                       \n",
       "403 2021-04-26 2021-04-30       PK    False          50  2021-04  2021   \n",
       "322 2020-11-12 2020-11-30       FR    False          25  2020-11  2020   \n",
       "267 2020-02-21 2020-05-22       CZ     True          24  2020-02  2020   \n",
       "279 2020-05-18 2020-06-18       GB     True          40  2020-05  2020   \n",
       "326 2020-08-27 2020-12-17       US    False          12  2020-08  2020   \n",
       "..         ...        ...      ...      ...         ...      ...   ...   \n",
       "242 2019-12-02 2019-12-06       FR    False          17  2019-12  2019   \n",
       "389 2021-03-22 2021-03-23       UG     True          20  2021-03  2021   \n",
       "393 2021-04-26 2021-04-30       GB     True          35  2021-04  2021   \n",
       "371 2021-03-15 2021-04-10       FR    False          20  2021-03  2021   \n",
       "366 2021-01-13 2021-01-14       ES     True          26  2021-01  2021   \n",
       "\n",
       "         continent  \n",
       "id                  \n",
       "403           Asia  \n",
       "322         Europe  \n",
       "267         Europe  \n",
       "279         Europe  \n",
       "326  North America  \n",
       "..             ...  \n",
       "242         Europe  \n",
       "389         Africa  \n",
       "393         Europe  \n",
       "371         Europe  \n",
       "366         Europe  \n",
       "\n",
       "[229 rows x 8 columns]"
      ]
     },
     "execution_count": 3,
     "metadata": {},
     "output_type": "execute_result"
    }
   ],
   "source": [
    "df = (pd.read_csv('https://usegalaxy.eu/tiaas/numbers.csv', sep=',', index_col=0)\n",
    "      # transform Y / N to True / False\n",
    "     .replace(\"Y\", True)\n",
    "     .replace(\"N\", False)\n",
    "     .assign(\n",
    "         start=lambda x: pd.to_datetime(x['start'], format='%Y-%m-%d'),\n",
    "         end=lambda x: pd.to_datetime(x['end'], format='%Y-%m-%d'),\n",
    "         month=lambda x: x['start'].dt.to_period('M'),\n",
    "         year=lambda x: x['start'].dt.to_period('Y'),\n",
    "         continent=lambda x: [get_continents(y) for y in x['location']]))\n",
    "df"
   ]
  },
  {
   "cell_type": "markdown",
   "metadata": {},
   "source": [
    "# General stats"
   ]
  },
  {
   "cell_type": "markdown",
   "metadata": {},
   "source": [
    "Stats collected in timeframe"
   ]
  },
  {
   "cell_type": "code",
   "execution_count": 4,
   "metadata": {},
   "outputs": [
    {
     "data": {
      "text/plain": [
       "'2018-06-20 00:00:00 - 2021-11-29 00:00:00'"
      ]
     },
     "execution_count": 4,
     "metadata": {},
     "output_type": "execute_result"
    }
   ],
   "source": [
    "\"%s - %s\" % (min(df['start']), max(df['start']))"
   ]
  },
  {
   "cell_type": "markdown",
   "metadata": {},
   "source": [
    "Number of TIaaS events"
   ]
  },
  {
   "cell_type": "code",
   "execution_count": 5,
   "metadata": {},
   "outputs": [
    {
     "data": {
      "text/plain": [
       "229"
      ]
     },
     "execution_count": 5,
     "metadata": {},
     "output_type": "execute_result"
    }
   ],
   "source": [
    "len(df)"
   ]
  },
  {
   "cell_type": "markdown",
   "metadata": {},
   "source": [
    "Percentage of TIaaS events using GTN"
   ]
  },
  {
   "cell_type": "code",
   "execution_count": 6,
   "metadata": {
    "scrolled": true
   },
   "outputs": [
    {
     "data": {
      "text/plain": [
       "63.75545851528385"
      ]
     },
     "execution_count": 6,
     "metadata": {},
     "output_type": "execute_result"
    }
   ],
   "source": [
    "sum(df.use_gtn)/len(df)*100"
   ]
  },
  {
   "cell_type": "markdown",
   "metadata": {},
   "source": [
    "Total number of participants"
   ]
  },
  {
   "cell_type": "code",
   "execution_count": 7,
   "metadata": {
    "scrolled": true
   },
   "outputs": [
    {
     "data": {
      "text/plain": [
       "8411"
      ]
     },
     "execution_count": 7,
     "metadata": {},
     "output_type": "execute_result"
    }
   ],
   "source": [
    "sum(df.attendance)"
   ]
  },
  {
   "cell_type": "markdown",
   "metadata": {},
   "source": [
    "# Evolution over the months"
   ]
  },
  {
   "cell_type": "code",
   "execution_count": 8,
   "metadata": {},
   "outputs": [
    {
     "data": {
      "text/html": [
       "<div>\n",
       "<style scoped>\n",
       "    .dataframe tbody tr th:only-of-type {\n",
       "        vertical-align: middle;\n",
       "    }\n",
       "\n",
       "    .dataframe tbody tr th {\n",
       "        vertical-align: top;\n",
       "    }\n",
       "\n",
       "    .dataframe thead th {\n",
       "        text-align: right;\n",
       "    }\n",
       "</style>\n",
       "<table border=\"1\" class=\"dataframe\">\n",
       "  <thead>\n",
       "    <tr style=\"text-align: right;\">\n",
       "      <th></th>\n",
       "      <th>Events</th>\n",
       "      <th>Participants</th>\n",
       "    </tr>\n",
       "    <tr>\n",
       "      <th>month</th>\n",
       "      <th></th>\n",
       "      <th></th>\n",
       "    </tr>\n",
       "  </thead>\n",
       "  <tbody>\n",
       "    <tr>\n",
       "      <th>2018-06</th>\n",
       "      <td>3</td>\n",
       "      <td>57</td>\n",
       "    </tr>\n",
       "    <tr>\n",
       "      <th>2018-07</th>\n",
       "      <td>1</td>\n",
       "      <td>60</td>\n",
       "    </tr>\n",
       "    <tr>\n",
       "      <th>2018-08</th>\n",
       "      <td>1</td>\n",
       "      <td>30</td>\n",
       "    </tr>\n",
       "    <tr>\n",
       "      <th>2018-09</th>\n",
       "      <td>4</td>\n",
       "      <td>75</td>\n",
       "    </tr>\n",
       "    <tr>\n",
       "      <th>2018-10</th>\n",
       "      <td>4</td>\n",
       "      <td>85</td>\n",
       "    </tr>\n",
       "  </tbody>\n",
       "</table>\n",
       "</div>"
      ],
      "text/plain": [
       "         Events  Participants\n",
       "month                        \n",
       "2018-06       3            57\n",
       "2018-07       1            60\n",
       "2018-08       1            30\n",
       "2018-09       4            75\n",
       "2018-10       4            85"
      ]
     },
     "execution_count": 8,
     "metadata": {},
     "output_type": "execute_result"
    }
   ],
   "source": [
    "nb_per_months_df = (df\n",
    "    .groupby(df.month)\n",
    "    .agg({'start': ['count'], 'attendance': ['sum']}))\n",
    "nb_per_months_df.columns = ['Events', 'Participants']\n",
    "nb_per_months_df.head()"
   ]
  },
  {
   "cell_type": "markdown",
   "metadata": {},
   "source": [
    "Average number of events per months"
   ]
  },
  {
   "cell_type": "code",
   "execution_count": 9,
   "metadata": {},
   "outputs": [
    {
     "data": {
      "text/plain": [
       "5.585365853658536"
      ]
     },
     "execution_count": 9,
     "metadata": {},
     "output_type": "execute_result"
    }
   ],
   "source": [
    "sum(nb_per_months_df.Events)/len(nb_per_months_df)"
   ]
  },
  {
   "cell_type": "code",
   "execution_count": 10,
   "metadata": {},
   "outputs": [
    {
     "data": {
      "text/plain": [
       "<Figure size 432x288 with 0 Axes>"
      ]
     },
     "metadata": {},
     "output_type": "display_data"
    },
    {
     "data": {
      "image/png": "[encoded data removed]",
      "text/plain": [
       "<Figure size 432x288 with 2 Axes>"
      ]
     },
     "metadata": {
      "needs_background": "light"
     },
     "output_type": "display_data"
    }
   ],
   "source": [
    "plt.figure()\n",
    "ax = nb_per_months_df.plot(colormap='Paired', secondary_y=['Participants'], mark_right=False)\n",
    "ax.set_xlabel('Months')\n",
    "ax.set_ylabel('Events')\n",
    "ax.right_ax.set_ylabel('Participants')\n",
    "plt.annotate(\n",
    "    'GTN Smörgåsbord',\n",
    "    xy=('2021-02-15', nb_per_months_df['Participants']['2021-02']),\n",
    "    xycoords='data',\n",
    "    xytext=('2020-11-01', nb_per_months_df['Participants']['2021-02']),\n",
    "    arrowprops=dict(arrowstyle=\"->\"),\n",
    "    horizontalalignment='right',\n",
    "    verticalalignment='center')\n",
    "plt.savefig('../images/tiaas-events.png', bbox_inches='tight')"
   ]
  },
  {
   "cell_type": "markdown",
   "metadata": {},
   "source": [
    "# Location"
   ]
  },
  {
   "cell_type": "code",
   "execution_count": 11,
   "metadata": {},
   "outputs": [
    {
     "data": {
      "text/html": [
       "<div>\n",
       "<style scoped>\n",
       "    .dataframe tbody tr th:only-of-type {\n",
       "        vertical-align: middle;\n",
       "    }\n",
       "\n",
       "    .dataframe tbody tr th {\n",
       "        vertical-align: top;\n",
       "    }\n",
       "\n",
       "    .dataframe thead th {\n",
       "        text-align: right;\n",
       "    }\n",
       "</style>\n",
       "<table border=\"1\" class=\"dataframe\">\n",
       "  <thead>\n",
       "    <tr style=\"text-align: right;\">\n",
       "      <th></th>\n",
       "      <th>Events</th>\n",
       "    </tr>\n",
       "    <tr>\n",
       "      <th>continent</th>\n",
       "      <th></th>\n",
       "    </tr>\n",
       "  </thead>\n",
       "  <tbody>\n",
       "    <tr>\n",
       "      <th>Africa</th>\n",
       "      <td>7</td>\n",
       "    </tr>\n",
       "    <tr>\n",
       "      <th>Asia</th>\n",
       "      <td>6</td>\n",
       "    </tr>\n",
       "    <tr>\n",
       "      <th>Australia</th>\n",
       "      <td>13</td>\n",
       "    </tr>\n",
       "    <tr>\n",
       "      <th>Europe</th>\n",
       "      <td>181</td>\n",
       "    </tr>\n",
       "    <tr>\n",
       "      <th>North America</th>\n",
       "      <td>20</td>\n",
       "    </tr>\n",
       "    <tr>\n",
       "      <th>South America</th>\n",
       "      <td>2</td>\n",
       "    </tr>\n",
       "  </tbody>\n",
       "</table>\n",
       "</div>"
      ],
      "text/plain": [
       "               Events\n",
       "continent            \n",
       "Africa              7\n",
       "Asia                6\n",
       "Australia          13\n",
       "Europe            181\n",
       "North America      20\n",
       "South America       2"
      ]
     },
     "execution_count": 11,
     "metadata": {},
     "output_type": "execute_result"
    }
   ],
   "source": [
    "nb_per_continents_df = (df\n",
    "    .groupby(by='continent')\n",
    "    .count()\n",
    "    .filter(['start'])\n",
    "    .rename(columns = {'start': 'Events'}))\n",
    "nb_per_continents_df / len(df) * 100"
   ]
  },
  {
   "cell_type": "code",
   "execution_count": 12,
   "metadata": {},
   "outputs": [
    {
     "data": {
      "text/html": [
       "<div>\n",
       "<style scoped>\n",
       "    .dataframe tbody tr th:only-of-type {\n",
       "        vertical-align: middle;\n",
       "    }\n",
       "\n",
       "    .dataframe tbody tr th {\n",
       "        vertical-align: top;\n",
       "    }\n",
       "\n",
       "    .dataframe thead th {\n",
       "        text-align: right;\n",
       "    }\n",
       "</style>\n",
       "<table border=\"1\" class=\"dataframe\">\n",
       "  <thead>\n",
       "    <tr style=\"text-align: right;\">\n",
       "      <th></th>\n",
       "      <th>Africa</th>\n",
       "      <th>Asia</th>\n",
       "      <th>Australia</th>\n",
       "      <th>Europe</th>\n",
       "      <th>North America</th>\n",
       "      <th>South America</th>\n",
       "      <th>Total</th>\n",
       "    </tr>\n",
       "  </thead>\n",
       "  <tbody>\n",
       "    <tr>\n",
       "      <th>Total</th>\n",
       "      <td>7</td>\n",
       "      <td>6</td>\n",
       "      <td>13</td>\n",
       "      <td>181</td>\n",
       "      <td>20</td>\n",
       "      <td>2</td>\n",
       "      <td>229</td>\n",
       "    </tr>\n",
       "    <tr>\n",
       "      <th>2021</th>\n",
       "      <td>1</td>\n",
       "      <td>4</td>\n",
       "      <td>2</td>\n",
       "      <td>41</td>\n",
       "      <td>11</td>\n",
       "      <td>0</td>\n",
       "      <td>59</td>\n",
       "    </tr>\n",
       "    <tr>\n",
       "      <th>2020</th>\n",
       "      <td>2</td>\n",
       "      <td>2</td>\n",
       "      <td>8</td>\n",
       "      <td>69</td>\n",
       "      <td>5</td>\n",
       "      <td>0</td>\n",
       "      <td>86</td>\n",
       "    </tr>\n",
       "    <tr>\n",
       "      <th>2019</th>\n",
       "      <td>3</td>\n",
       "      <td>0</td>\n",
       "      <td>2</td>\n",
       "      <td>52</td>\n",
       "      <td>3</td>\n",
       "      <td>1</td>\n",
       "      <td>61</td>\n",
       "    </tr>\n",
       "    <tr>\n",
       "      <th>2018</th>\n",
       "      <td>1</td>\n",
       "      <td>0</td>\n",
       "      <td>1</td>\n",
       "      <td>19</td>\n",
       "      <td>1</td>\n",
       "      <td>1</td>\n",
       "      <td>23</td>\n",
       "    </tr>\n",
       "  </tbody>\n",
       "</table>\n",
       "</div>"
      ],
      "text/plain": [
       "       Africa  Asia  Australia  Europe  North America  South America  Total\n",
       "Total       7     6         13     181             20              2    229\n",
       "2021        1     4          2      41             11              0     59\n",
       "2020        2     2          8      69              5              0     86\n",
       "2019        3     0          2      52              3              1     61\n",
       "2018        1     0          1      19              1              1     23"
      ]
     },
     "execution_count": 12,
     "metadata": {},
     "output_type": "execute_result"
    }
   ],
   "source": [
    "continent_year_event_df = pd.DataFrame(\n",
    "    0,\n",
    "    columns=list(df.continent.drop_duplicates().sort_values()) + ['Total'],\n",
    "    index=['Total'] + list(df.year.drop_duplicates().sort_values(ascending=False)))\n",
    "grouped_df = df.groupby(['year', 'continent'])\n",
    "for g in grouped_df.groups:\n",
    "    (y, c) = g\n",
    "    continent_year_event_df[c][y] = len(grouped_df.get_group(g))\n",
    "continent_year_event_df.loc['Total'] = continent_year_event_df.sum(axis=0)\n",
    "continent_year_event_df['Total'] = continent_year_event_df.sum(axis=1)\n",
    "continent_year_event_df"
   ]
  },
  {
   "cell_type": "code",
   "execution_count": 13,
   "metadata": {
    "scrolled": true
   },
   "outputs": [
    {
     "data": {
      "image/png": "[encoded data removed]",
      "text/plain": [
       "<Figure size 432x288 with 1 Axes>"
      ]
     },
     "metadata": {
      "needs_background": "light"
     },
     "output_type": "display_data"
    }
   ],
   "source": [
    "fig, ax = plt.subplots()\n",
    "(continent_year_event_df\n",
    "     .drop(['Total'], axis=1)\n",
    "     .plot.barh(stacked=True, ax=ax, colormap='RdBu'))\n",
    "plt.xlabel('Events')\n",
    "ax.legend(\n",
    "    loc='center left',\n",
    "    bbox_to_anchor=(1, 0.5),\n",
    "    frameon=False,\n",
    "    fontsize='x-small')\n",
    "plt.savefig('../images/tiaas-events-per-year.png', bbox_inches='tight')"
   ]
  },
  {
   "cell_type": "code",
   "execution_count": 14,
   "metadata": {},
   "outputs": [
    {
     "data": {
      "text/html": [
       "<div>\n",
       "<style scoped>\n",
       "    .dataframe tbody tr th:only-of-type {\n",
       "        vertical-align: middle;\n",
       "    }\n",
       "\n",
       "    .dataframe tbody tr th {\n",
       "        vertical-align: top;\n",
       "    }\n",
       "\n",
       "    .dataframe thead th {\n",
       "        text-align: right;\n",
       "    }\n",
       "</style>\n",
       "<table border=\"1\" class=\"dataframe\">\n",
       "  <thead>\n",
       "    <tr style=\"text-align: right;\">\n",
       "      <th></th>\n",
       "      <th>Africa</th>\n",
       "      <th>Asia</th>\n",
       "      <th>Australia</th>\n",
       "      <th>Europe</th>\n",
       "      <th>North America</th>\n",
       "      <th>South America</th>\n",
       "      <th>Total</th>\n",
       "    </tr>\n",
       "  </thead>\n",
       "  <tbody>\n",
       "    <tr>\n",
       "      <th>Total</th>\n",
       "      <td>261</td>\n",
       "      <td>203</td>\n",
       "      <td>370</td>\n",
       "      <td>6994</td>\n",
       "      <td>503</td>\n",
       "      <td>80</td>\n",
       "      <td>8411</td>\n",
       "    </tr>\n",
       "    <tr>\n",
       "      <th>2021</th>\n",
       "      <td>20</td>\n",
       "      <td>123</td>\n",
       "      <td>76</td>\n",
       "      <td>2992</td>\n",
       "      <td>241</td>\n",
       "      <td>0</td>\n",
       "      <td>3452</td>\n",
       "    </tr>\n",
       "    <tr>\n",
       "      <th>2020</th>\n",
       "      <td>124</td>\n",
       "      <td>80</td>\n",
       "      <td>260</td>\n",
       "      <td>2271</td>\n",
       "      <td>182</td>\n",
       "      <td>0</td>\n",
       "      <td>2917</td>\n",
       "    </tr>\n",
       "    <tr>\n",
       "      <th>2019</th>\n",
       "      <td>101</td>\n",
       "      <td>0</td>\n",
       "      <td>24</td>\n",
       "      <td>1332</td>\n",
       "      <td>40</td>\n",
       "      <td>20</td>\n",
       "      <td>1517</td>\n",
       "    </tr>\n",
       "    <tr>\n",
       "      <th>2018</th>\n",
       "      <td>16</td>\n",
       "      <td>0</td>\n",
       "      <td>10</td>\n",
       "      <td>399</td>\n",
       "      <td>40</td>\n",
       "      <td>60</td>\n",
       "      <td>525</td>\n",
       "    </tr>\n",
       "  </tbody>\n",
       "</table>\n",
       "</div>"
      ],
      "text/plain": [
       "       Africa  Asia  Australia  Europe  North America  South America  Total\n",
       "Total     261   203        370    6994            503             80   8411\n",
       "2021       20   123         76    2992            241              0   3452\n",
       "2020      124    80        260    2271            182              0   2917\n",
       "2019      101     0         24    1332             40             20   1517\n",
       "2018       16     0         10     399             40             60    525"
      ]
     },
     "execution_count": 14,
     "metadata": {},
     "output_type": "execute_result"
    }
   ],
   "source": [
    "continent_year_participants_df = pd.DataFrame(\n",
    "    0,\n",
    "    columns=list(df.continent.drop_duplicates().sort_values()) + ['Total'],\n",
    "    index=['Total'] + list(df.year.drop_duplicates().sort_values(ascending=False)))\n",
    "grouped_df = df.groupby(['year', 'continent'])\n",
    "for g in grouped_df.groups:\n",
    "    (y, c) = g\n",
    "    continent_year_participants_df[c][y] = sum(grouped_df.get_group(g).attendance)\n",
    "continent_year_participants_df.loc['Total'] = continent_year_participants_df.sum(axis=0)\n",
    "continent_year_participants_df['Total'] = continent_year_participants_df.sum(axis=1)\n",
    "continent_year_participants_df"
   ]
  },
  {
   "cell_type": "code",
   "execution_count": 16,
   "metadata": {},
   "outputs": [
    {
     "data": {
      "image/png": "[encoded data removed]",
      "text/plain": [
       "<Figure size 432x288 with 1 Axes>"
      ]
     },
     "metadata": {
      "needs_background": "light"
     },
     "output_type": "display_data"
    }
   ],
   "source": [
    "fig, ax = plt.subplots()\n",
    "(continent_year_participants_df\n",
    "     .drop(['Total'], axis=1)\n",
    "     .plot.barh(stacked=True, ax=ax, colormap='RdBu'))\n",
    "plt.xlabel('Participants')\n",
    "ax.legend(\n",
    "    loc='center left',\n",
    "    bbox_to_anchor=(1, 0.5),\n",
    "    frameon=False,\n",
    "    fontsize='x-small')\n",
    "plt.savefig('../images/tiaas-participants-per-year.png', bbox_inches='tight')"
   ]
  }
 ],
 "metadata": {
  "hide_input": false,
  "kernelspec": {
   "display_name": "Python 3 (ipykernel)",
   "language": "python",
   "name": "python3"
  },
  "language_info": {
   "codemirror_mode": {
    "name": "ipython",
    "version": 3
   },
   "file_extension": ".py",
   "mimetype": "text/x-python",
   "name": "python",
   "nbconvert_exporter": "python",
   "pygments_lexer": "ipython3",
   "version": "3.9.6"
  },
  "toc": {
   "nav_menu": {},
   "number_sections": true,
   "sideBar": true,
   "skip_h1_title": false,
   "title_cell": "Table of Contents",
   "title_sidebar": "Contents",
   "toc_cell": false,
   "toc_position": {},
   "toc_section_display": true,
   "toc_window_display": false
  }
 },
 "nbformat": 4,
 "nbformat_minor": 4
}
