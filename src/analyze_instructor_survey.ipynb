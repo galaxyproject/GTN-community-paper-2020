{
 "cells": [
  {
   "cell_type": "markdown",
   "id": "fb23afbb",
   "metadata": {},
   "source": [
    "**Purpose**: Analyze the instructor survey"
   ]
  },
  {
   "cell_type": "code",
   "execution_count": 1,
   "id": "1db6d75b",
   "metadata": {},
   "outputs": [],
   "source": [
    "import base64\n",
    "import matplotlib.pyplot as plt\n",
    "import pandas as pd\n",
    "import yaml\n",
    "\n",
    "from dateutil import relativedelta"
   ]
  },
  {
   "cell_type": "code",
   "execution_count": 2,
   "id": "6da1261b",
   "metadata": {},
   "outputs": [],
   "source": [
    "url = \"https://docs.google.com/spreadsheets/d/1DUC7yKxMJRHFfKYn8aWLYdenAWdRsG6c0xvIQVW_KD0/export?format=csv&gid=1780897126\""
   ]
  },
  {
   "cell_type": "code",
   "execution_count": 3,
   "id": "7072e5c0",
   "metadata": {
    "scrolled": true
   },
   "outputs": [
    {
     "data": {
      "text/html": [
       "<div>\n",
       "<style scoped>\n",
       "    .dataframe tbody tr th:only-of-type {\n",
       "        vertical-align: middle;\n",
       "    }\n",
       "\n",
       "    .dataframe tbody tr th {\n",
       "        vertical-align: top;\n",
       "    }\n",
       "\n",
       "    .dataframe thead th {\n",
       "        text-align: right;\n",
       "    }\n",
       "</style>\n",
       "<table border=\"1\" class=\"dataframe\">\n",
       "  <thead>\n",
       "    <tr style=\"text-align: right;\">\n",
       "      <th></th>\n",
       "      <th>Tidsmerke</th>\n",
       "      <th>Use in last 3 years</th>\n",
       "      <th>Number of training events</th>\n",
       "      <th>GTN usage</th>\n",
       "      <th>GTN events</th>\n",
       "      <th>GTN rate</th>\n",
       "      <th>GTN recommendation</th>\n",
       "      <th>Features</th>\n",
       "      <th>Servers</th>\n",
       "      <th>TiaaS usage</th>\n",
       "      <th>TiaaS rate</th>\n",
       "      <th>TiaaS recommendation</th>\n",
       "      <th>GTN contributor</th>\n",
       "      <th>GTN future contributor</th>\n",
       "    </tr>\n",
       "  </thead>\n",
       "  <tbody>\n",
       "    <tr>\n",
       "      <th>0</th>\n",
       "      <td>07.11.2019 kl. 13.30.19</td>\n",
       "      <td>True</td>\n",
       "      <td>1</td>\n",
       "      <td>True</td>\n",
       "      <td>2</td>\n",
       "      <td>5</td>\n",
       "      <td>5</td>\n",
       "      <td></td>\n",
       "      <td>European Galaxy server (https://usegalaxy.eu/)</td>\n",
       "      <td>True</td>\n",
       "      <td>5</td>\n",
       "      <td>5</td>\n",
       "      <td>True</td>\n",
       "      <td>0</td>\n",
       "    </tr>\n",
       "    <tr>\n",
       "      <th>1</th>\n",
       "      <td>07.11.2019 kl. 16.25.57</td>\n",
       "      <td>True</td>\n",
       "      <td>25</td>\n",
       "      <td>True</td>\n",
       "      <td>25</td>\n",
       "      <td>5</td>\n",
       "      <td>5</td>\n",
       "      <td></td>\n",
       "      <td>European Galaxy server (https://usegalaxy.eu/)</td>\n",
       "      <td>True</td>\n",
       "      <td>5</td>\n",
       "      <td>5</td>\n",
       "      <td>True</td>\n",
       "      <td>0</td>\n",
       "    </tr>\n",
       "    <tr>\n",
       "      <th>2</th>\n",
       "      <td>21.11.2019 kl. 17.48.58</td>\n",
       "      <td>True</td>\n",
       "      <td>5</td>\n",
       "      <td>True</td>\n",
       "      <td>3</td>\n",
       "      <td>4</td>\n",
       "      <td>4</td>\n",
       "      <td>Hands-on tutorials</td>\n",
       "      <td>European Galaxy server (https://usegalaxy.eu/)...</td>\n",
       "      <td>True</td>\n",
       "      <td>5</td>\n",
       "      <td>5</td>\n",
       "      <td>True</td>\n",
       "      <td>0</td>\n",
       "    </tr>\n",
       "    <tr>\n",
       "      <th>3</th>\n",
       "      <td>29.11.2019 kl. 09.16.54</td>\n",
       "      <td>True</td>\n",
       "      <td>3</td>\n",
       "      <td>True</td>\n",
       "      <td>3</td>\n",
       "      <td>5</td>\n",
       "      <td>5</td>\n",
       "      <td>Hands-on tutorials</td>\n",
       "      <td>European Galaxy server (https://usegalaxy.eu/)</td>\n",
       "      <td>True</td>\n",
       "      <td>5</td>\n",
       "      <td>5</td>\n",
       "      <td>True</td>\n",
       "      <td>0</td>\n",
       "    </tr>\n",
       "    <tr>\n",
       "      <th>4</th>\n",
       "      <td>10.01.2020 kl. 13.08.57</td>\n",
       "      <td>True</td>\n",
       "      <td>10</td>\n",
       "      <td>True</td>\n",
       "      <td>10</td>\n",
       "      <td>4</td>\n",
       "      <td>4</td>\n",
       "      <td>Hands-on tutorials, Slide decks</td>\n",
       "      <td>Private Server</td>\n",
       "      <td>False</td>\n",
       "      <td>0</td>\n",
       "      <td>0</td>\n",
       "      <td>True</td>\n",
       "      <td>0</td>\n",
       "    </tr>\n",
       "  </tbody>\n",
       "</table>\n",
       "</div>"
      ],
      "text/plain": [
       "                 Tidsmerke  Use in last 3 years  Number of training events  \\\n",
       "0  07.11.2019 kl. 13.30.19                 True                          1   \n",
       "1  07.11.2019 kl. 16.25.57                 True                         25   \n",
       "2  21.11.2019 kl. 17.48.58                 True                          5   \n",
       "3  29.11.2019 kl. 09.16.54                 True                          3   \n",
       "4  10.01.2020 kl. 13.08.57                 True                         10   \n",
       "\n",
       "   GTN usage  GTN events  GTN rate  GTN recommendation  \\\n",
       "0       True           2         5                   5   \n",
       "1       True          25         5                   5   \n",
       "2       True           3         4                   4   \n",
       "3       True           3         5                   5   \n",
       "4       True          10         4                   4   \n",
       "\n",
       "                          Features  \\\n",
       "0                                    \n",
       "1                                    \n",
       "2               Hands-on tutorials   \n",
       "3               Hands-on tutorials   \n",
       "4  Hands-on tutorials, Slide decks   \n",
       "\n",
       "                                             Servers  TiaaS usage  TiaaS rate  \\\n",
       "0     European Galaxy server (https://usegalaxy.eu/)         True           5   \n",
       "1     European Galaxy server (https://usegalaxy.eu/)         True           5   \n",
       "2  European Galaxy server (https://usegalaxy.eu/)...         True           5   \n",
       "3     European Galaxy server (https://usegalaxy.eu/)         True           5   \n",
       "4                                     Private Server        False           0   \n",
       "\n",
       "   TiaaS recommendation  GTN contributor GTN future contributor  \n",
       "0                     5             True                      0  \n",
       "1                     5             True                      0  \n",
       "2                     5             True                      0  \n",
       "3                     5             True                      0  \n",
       "4                     0             True                      0  "
      ]
     },
     "execution_count": 3,
     "metadata": {},
     "output_type": "execute_result"
    }
   ],
   "source": [
    "df = (pd.read_csv(url)\n",
    "    .drop([\n",
    "        'Your most recent training event was within the past...',\n",
    "        'Which other training materials did you use?',\n",
    "        'What did you need to prepare, ahead of these events? (E.g. materials, websites, servers, certificates)',\n",
    "        'How long did you need to prepare for these events? Which portions took the most time?',\n",
    "        'What did you like about the preparation process?',\n",
    "        'What could have been easier or better?',\n",
    "        'Which tutorial(s) did you use? (No need for an exhaustive list.)',\n",
    "        'What did you like about them?',\n",
    "        'What did you not like about them or what could be improved?',\n",
    "        'What hinders you to contribute? What could we improve?',\n",
    "        'Any comments?'], axis=1)\n",
    "    .rename(columns= {\n",
    "        'Did you use Galaxy for teaching or training in the last 3 years?': 'Use in last 3 years',\n",
    "        'How many events (approximately)?': 'Number of training events',\n",
    "        'Did you use GTN training materials?': 'GTN usage',\n",
    "        'For how many of those events did you use the materials from the Galaxy Training Network?': 'GTN events',\n",
    "        'How would you rate these materials?': 'GTN rate',\n",
    "        'Would you recommend them to others?': 'GTN recommendation',\n",
    "        'Which features did you use?': 'Features',\n",
    "        'Which Galaxy servers(s) have you already used for training?': 'Servers',\n",
    "        'Have you ever used TIaaS (Training Infrastructure as a Service, https://galaxyproject.eu/tiaas)?': 'TiaaS usage',\n",
    "        'How did you like it?': 'TiaaS rate',\n",
    "        'Would you recommend it to other trainers?': 'TiaaS recommendation',\n",
    "        'Have you already contributed to GTN material?': 'GTN contributor',\n",
    "        'If no, do you plan to do so?': 'GTN future contributor'})\n",
    "     .replace(\"Yes\", True)\n",
    "     .replace(\"No\", False)\n",
    "     .fillna(0))\n",
    "df['Number of training events'] = df['Number of training events'].astype(int)\n",
    "df['GTN events'] = df['GTN events'].astype(int)\n",
    "df['GTN rate'] = df['GTN rate'].astype(int)\n",
    "df['GTN recommendation'] = df['GTN recommendation'].astype(int)\n",
    "df['TiaaS rate'] = df['TiaaS rate'].astype(int)\n",
    "df['TiaaS recommendation'] = df['TiaaS recommendation'].astype(int)\n",
    "df['GTN contributor'] = df['GTN contributor'].astype(bool)\n",
    "df['GTN usage'] = df['GTN usage'].astype(bool)\n",
    "df['TiaaS usage'] = df['TiaaS usage'].astype(bool)\n",
    "df['Features'] = df['Features'].replace(0, '')\n",
    "df.head()"
   ]
  },
  {
   "cell_type": "markdown",
   "id": "47f88bde",
   "metadata": {},
   "source": [
    "Number of answers"
   ]
  },
  {
   "cell_type": "code",
   "execution_count": 4,
   "id": "014b2cd3",
   "metadata": {},
   "outputs": [
    {
     "data": {
      "text/plain": [
       "33"
      ]
     },
     "execution_count": 4,
     "metadata": {},
     "output_type": "execute_result"
    }
   ],
   "source": [
    "len(df)"
   ]
  },
  {
   "cell_type": "markdown",
   "id": "762dba4a",
   "metadata": {},
   "source": [
    "# Use Galaxy for teaching or training in the last 3 year"
   ]
  },
  {
   "cell_type": "markdown",
   "id": "99b06507",
   "metadata": {},
   "source": [
    "Percentage that use Galaxy for teaching or training in the last 3 years"
   ]
  },
  {
   "cell_type": "code",
   "execution_count": 5,
   "id": "106efb1d",
   "metadata": {},
   "outputs": [
    {
     "data": {
      "text/plain": [
       "87.87878787878788"
      ]
     },
     "execution_count": 5,
     "metadata": {},
     "output_type": "execute_result"
    }
   ],
   "source": [
    "did_training_df = df[df['Use in last 3 years']]\n",
    "len(did_training_df) / len(df) * 100"
   ]
  },
  {
   "cell_type": "markdown",
   "id": "b2d21951",
   "metadata": {},
   "source": [
    "Percentage that gave 1 training session in the last 3 year"
   ]
  },
  {
   "cell_type": "code",
   "execution_count": 6,
   "id": "e2f95102",
   "metadata": {
    "scrolled": true
   },
   "outputs": [
    {
     "data": {
      "text/plain": [
       "24.137931034482758"
      ]
     },
     "execution_count": 6,
     "metadata": {},
     "output_type": "execute_result"
    }
   ],
   "source": [
    "sum(did_training_df['Number of training events'] <= 1) / len(did_training_df) * 100"
   ]
  },
  {
   "cell_type": "markdown",
   "id": "0b98ddc2",
   "metadata": {},
   "source": [
    "Percentage that gave >10 training session in the last 3 year"
   ]
  },
  {
   "cell_type": "code",
   "execution_count": 7,
   "id": "aaa614c9",
   "metadata": {},
   "outputs": [
    {
     "data": {
      "text/plain": [
       "34.48275862068966"
      ]
     },
     "execution_count": 7,
     "metadata": {},
     "output_type": "execute_result"
    }
   ],
   "source": [
    "sum(did_training_df['Number of training events'] >= 10) / len(did_training_df) * 100"
   ]
  },
  {
   "cell_type": "markdown",
   "id": "2e673760",
   "metadata": {},
   "source": [
    "Percentage that gave >25 training session in the last 3 year"
   ]
  },
  {
   "cell_type": "code",
   "execution_count": 8,
   "id": "8ca5e50b",
   "metadata": {},
   "outputs": [
    {
     "data": {
      "text/plain": [
       "10.344827586206897"
      ]
     },
     "execution_count": 8,
     "metadata": {},
     "output_type": "execute_result"
    }
   ],
   "source": [
    "sum(did_training_df['Number of training events'] >= 25) / len(did_training_df) * 100"
   ]
  },
  {
   "cell_type": "markdown",
   "id": "462fa4f4",
   "metadata": {},
   "source": [
    "# Use of GTN"
   ]
  },
  {
   "cell_type": "code",
   "execution_count": 9,
   "id": "fa851083",
   "metadata": {
    "scrolled": false
   },
   "outputs": [],
   "source": [
    "use_gtn = did_training_df[did_training_df['GTN usage']]"
   ]
  },
  {
   "cell_type": "markdown",
   "id": "4774d3f8",
   "metadata": {},
   "source": [
    "Percentage of use of GTN"
   ]
  },
  {
   "cell_type": "code",
   "execution_count": 10,
   "id": "49b657a5",
   "metadata": {},
   "outputs": [
    {
     "data": {
      "text/plain": [
       "79.3103448275862"
      ]
     },
     "execution_count": 10,
     "metadata": {},
     "output_type": "execute_result"
    }
   ],
   "source": [
    "len(use_gtn) / len(did_training_df) * 100"
   ]
  },
  {
   "cell_type": "markdown",
   "id": "f1ba873c",
   "metadata": {},
   "source": [
    "Rate"
   ]
  },
  {
   "cell_type": "code",
   "execution_count": 11,
   "id": "45b2324d",
   "metadata": {},
   "outputs": [
    {
     "data": {
      "text/plain": [
       "0     5\n",
       "1     5\n",
       "2     4\n",
       "3     5\n",
       "4     4\n",
       "5     5\n",
       "6     4\n",
       "7     5\n",
       "8     4\n",
       "9     5\n",
       "12    5\n",
       "13    5\n",
       "16    5\n",
       "17    5\n",
       "19    5\n",
       "20    5\n",
       "23    5\n",
       "24    5\n",
       "25    5\n",
       "26    5\n",
       "29    5\n",
       "30    5\n",
       "32    5\n",
       "Name: GTN rate, dtype: int64"
      ]
     },
     "execution_count": 11,
     "metadata": {},
     "output_type": "execute_result"
    }
   ],
   "source": [
    "use_gtn['GTN rate']"
   ]
  },
  {
   "cell_type": "markdown",
   "id": "069c7373",
   "metadata": {},
   "source": [
    "Mean rate"
   ]
  },
  {
   "cell_type": "code",
   "execution_count": 12,
   "id": "b3e7acd3",
   "metadata": {},
   "outputs": [
    {
     "data": {
      "text/plain": [
       "4.826086956521739"
      ]
     },
     "execution_count": 12,
     "metadata": {},
     "output_type": "execute_result"
    }
   ],
   "source": [
    "use_gtn['GTN rate'].mean()"
   ]
  },
  {
   "cell_type": "markdown",
   "id": "cb8417de",
   "metadata": {},
   "source": [
    "Percentage that gave 5 star for recommendation"
   ]
  },
  {
   "cell_type": "code",
   "execution_count": 13,
   "id": "df0a1629",
   "metadata": {},
   "outputs": [
    {
     "data": {
      "text/plain": [
       "91.30434782608695"
      ]
     },
     "execution_count": 13,
     "metadata": {},
     "output_type": "execute_result"
    }
   ],
   "source": [
    "sum(use_gtn['GTN recommendation'] >= 5) / len(use_gtn) * 100"
   ]
  },
  {
   "cell_type": "code",
   "execution_count": 14,
   "id": "e92e4e9d",
   "metadata": {},
   "outputs": [
    {
     "data": {
      "text/plain": [
       "2                                    Hands-on tutorials\n",
       "3                                    Hands-on tutorials\n",
       "4                       Hands-on tutorials, Slide decks\n",
       "5     Hands-on tutorials, Slide decks, List of tools...\n",
       "6     Hands-on tutorials, Slide decks, List of tools...\n",
       "7     Hands-on tutorials, Slide decks, Data librarie...\n",
       "8     Hands-on tutorials, Slide decks, Data librarie...\n",
       "9                                    Hands-on tutorials\n",
       "12    Hands-on tutorials, Slide decks, Data librarie...\n",
       "13    Hands-on tutorials, Slide decks, List of tools...\n",
       "16                 Hands-on tutorials, Slide decks, FAQ\n",
       "17    Hands-on tutorials, Slide decks, Training Phil...\n",
       "19    Hands-on tutorials, Slide decks, Data librarie...\n",
       "20    Hands-on tutorials, Material on teaching and h...\n",
       "23                 Hands-on tutorials, Slide decks, FAQ\n",
       "24    Hands-on tutorials, Slide decks, List of tools...\n",
       "25                      Hands-on tutorials, Slide decks\n",
       "26                      Hands-on tutorials, Slide decks\n",
       "29    Hands-on tutorials, Slide decks, List of tools...\n",
       "30                                   Hands-on tutorials\n",
       "32    Hands-on tutorials, List of tools to populate ...\n",
       "Name: Features, dtype: object"
      ]
     },
     "execution_count": 14,
     "metadata": {},
     "output_type": "execute_result"
    }
   ],
   "source": [
    "use_gtn_features = use_gtn['Features'][use_gtn['Features'] != '']\n",
    "use_gtn_features"
   ]
  },
  {
   "cell_type": "markdown",
   "id": "b980f45a",
   "metadata": {},
   "source": [
    "Percentage that uses Hands-on tutorials"
   ]
  },
  {
   "cell_type": "code",
   "execution_count": 15,
   "id": "30cb57ec",
   "metadata": {},
   "outputs": [
    {
     "data": {
      "text/plain": [
       "100.0"
      ]
     },
     "execution_count": 15,
     "metadata": {},
     "output_type": "execute_result"
    }
   ],
   "source": [
    "sum(use_gtn_features.str.contains('Hands-on tutorial')) / len(use_gtn_features) * 100"
   ]
  },
  {
   "cell_type": "markdown",
   "id": "53b9a59d",
   "metadata": {},
   "source": [
    "Percentage that uses Slides"
   ]
  },
  {
   "cell_type": "code",
   "execution_count": 16,
   "id": "596926a2",
   "metadata": {},
   "outputs": [
    {
     "data": {
      "text/plain": [
       "71.42857142857143"
      ]
     },
     "execution_count": 16,
     "metadata": {},
     "output_type": "execute_result"
    }
   ],
   "source": [
    "sum(use_gtn_features.str.contains('Slide')) / len(use_gtn_features) * 100"
   ]
  },
  {
   "cell_type": "markdown",
   "id": "4a9f408b",
   "metadata": {},
   "source": [
    "Percentage that uses tools"
   ]
  },
  {
   "cell_type": "code",
   "execution_count": 17,
   "id": "f4fd48ba",
   "metadata": {},
   "outputs": [
    {
     "data": {
      "text/plain": [
       "28.57142857142857"
      ]
     },
     "execution_count": 17,
     "metadata": {},
     "output_type": "execute_result"
    }
   ],
   "source": [
    "sum(use_gtn_features.str.contains('tools')) / len(use_gtn_features) * 100"
   ]
  },
  {
   "cell_type": "markdown",
   "id": "6c0986d4",
   "metadata": {},
   "source": [
    "Percentage that uses data"
   ]
  },
  {
   "cell_type": "code",
   "execution_count": 18,
   "id": "b29d8548",
   "metadata": {},
   "outputs": [
    {
     "data": {
      "text/plain": [
       "38.095238095238095"
      ]
     },
     "execution_count": 18,
     "metadata": {},
     "output_type": "execute_result"
    }
   ],
   "source": [
    "sum(use_gtn_features.str.contains('Data libraries')) / len(use_gtn_features) * 100"
   ]
  },
  {
   "cell_type": "markdown",
   "id": "23c8ccd7",
   "metadata": {},
   "source": [
    "Percentage that uses workflows"
   ]
  },
  {
   "cell_type": "code",
   "execution_count": 19,
   "id": "8089ba5c",
   "metadata": {},
   "outputs": [
    {
     "data": {
      "text/plain": [
       "4.761904761904762"
      ]
     },
     "execution_count": 19,
     "metadata": {},
     "output_type": "execute_result"
    }
   ],
   "source": [
    "sum(use_gtn_features.str.contains('workflows')) / len(use_gtn_features) * 100"
   ]
  },
  {
   "cell_type": "markdown",
   "id": "2d9d4a77",
   "metadata": {},
   "source": [
    "Percentage that uses \"Material on teaching and hosting Galaxy training\""
   ]
  },
  {
   "cell_type": "code",
   "execution_count": 20,
   "id": "40fb79e1",
   "metadata": {},
   "outputs": [
    {
     "data": {
      "text/plain": [
       "23.809523809523807"
      ]
     },
     "execution_count": 20,
     "metadata": {},
     "output_type": "execute_result"
    }
   ],
   "source": [
    "sum(use_gtn_features.str.contains('Material on teaching and hosting Galaxy training')) / len(use_gtn_features) * 100"
   ]
  },
  {
   "cell_type": "markdown",
   "id": "37739ac5",
   "metadata": {},
   "source": [
    "Percentage that uses \"Training Philosophies\""
   ]
  },
  {
   "cell_type": "code",
   "execution_count": 21,
   "id": "75824057",
   "metadata": {},
   "outputs": [
    {
     "data": {
      "text/plain": [
       "9.523809523809524"
      ]
     },
     "execution_count": 21,
     "metadata": {},
     "output_type": "execute_result"
    }
   ],
   "source": [
    "sum(use_gtn_features.str.contains('Training Philosophies')) / len(use_gtn_features) * 100"
   ]
  },
  {
   "cell_type": "markdown",
   "id": "0fe1dad2",
   "metadata": {},
   "source": [
    "# Use of TIaaS"
   ]
  },
  {
   "cell_type": "code",
   "execution_count": 22,
   "id": "33ce31c9",
   "metadata": {
    "scrolled": true
   },
   "outputs": [],
   "source": [
    "use_tiaas = did_training_df[did_training_df['TiaaS usage']]"
   ]
  },
  {
   "cell_type": "markdown",
   "id": "a0418d25",
   "metadata": {},
   "source": [
    "Percentage of use of TIaaS"
   ]
  },
  {
   "cell_type": "code",
   "execution_count": 23,
   "id": "43d5f4bb",
   "metadata": {},
   "outputs": [
    {
     "data": {
      "text/plain": [
       "58.620689655172406"
      ]
     },
     "execution_count": 23,
     "metadata": {},
     "output_type": "execute_result"
    }
   ],
   "source": [
    "len(use_tiaas) / len(did_training_df) * 100"
   ]
  },
  {
   "cell_type": "markdown",
   "id": "a6a2d365",
   "metadata": {},
   "source": [
    "Rate"
   ]
  },
  {
   "cell_type": "code",
   "execution_count": 24,
   "id": "6ce3cd3c",
   "metadata": {},
   "outputs": [
    {
     "data": {
      "text/plain": [
       "0     5\n",
       "1     5\n",
       "2     5\n",
       "3     5\n",
       "6     5\n",
       "7     5\n",
       "12    5\n",
       "17    5\n",
       "19    5\n",
       "20    5\n",
       "23    5\n",
       "24    5\n",
       "25    5\n",
       "26    5\n",
       "29    5\n",
       "30    5\n",
       "31    3\n",
       "Name: TiaaS rate, dtype: int64"
      ]
     },
     "execution_count": 24,
     "metadata": {},
     "output_type": "execute_result"
    }
   ],
   "source": [
    "use_tiaas['TiaaS rate']"
   ]
  },
  {
   "cell_type": "markdown",
   "id": "01bb70ff",
   "metadata": {},
   "source": [
    "Percentage that gave 5 star for recommendation"
   ]
  },
  {
   "cell_type": "code",
   "execution_count": 25,
   "id": "983460fa",
   "metadata": {
    "scrolled": true
   },
   "outputs": [
    {
     "data": {
      "text/plain": [
       "94.11764705882352"
      ]
     },
     "execution_count": 25,
     "metadata": {},
     "output_type": "execute_result"
    }
   ],
   "source": [
    "sum(use_tiaas['TiaaS recommendation'] >= 5) / len(use_tiaas) * 100"
   ]
  },
  {
   "cell_type": "markdown",
   "id": "71f88f38",
   "metadata": {},
   "source": [
    "# Contributors"
   ]
  },
  {
   "cell_type": "markdown",
   "id": "7e8891a3",
   "metadata": {},
   "source": [
    "Percentage of contributors"
   ]
  },
  {
   "cell_type": "code",
   "execution_count": 26,
   "id": "062d78d2",
   "metadata": {
    "scrolled": true
   },
   "outputs": [
    {
     "data": {
      "text/plain": [
       "68.96551724137932"
      ]
     },
     "execution_count": 26,
     "metadata": {},
     "output_type": "execute_result"
    }
   ],
   "source": [
    "sum(did_training_df['GTN contributor'])  / len(did_training_df) * 100"
   ]
  },
  {
   "cell_type": "code",
   "execution_count": 32,
   "id": "334bb8a4",
   "metadata": {},
   "outputs": [
    {
     "data": {
      "text/html": [
       "<div>\n",
       "<style scoped>\n",
       "    .dataframe tbody tr th:only-of-type {\n",
       "        vertical-align: middle;\n",
       "    }\n",
       "\n",
       "    .dataframe tbody tr th {\n",
       "        vertical-align: top;\n",
       "    }\n",
       "\n",
       "    .dataframe thead th {\n",
       "        text-align: right;\n",
       "    }\n",
       "</style>\n",
       "<table border=\"1\" class=\"dataframe\">\n",
       "  <thead>\n",
       "    <tr style=\"text-align: right;\">\n",
       "      <th></th>\n",
       "      <th>Tidsmerke</th>\n",
       "      <th>Use in last 3 years</th>\n",
       "      <th>Number of training events</th>\n",
       "      <th>GTN usage</th>\n",
       "      <th>GTN events</th>\n",
       "      <th>GTN rate</th>\n",
       "      <th>GTN recommendation</th>\n",
       "      <th>Features</th>\n",
       "      <th>Servers</th>\n",
       "      <th>TiaaS usage</th>\n",
       "      <th>TiaaS rate</th>\n",
       "      <th>TiaaS recommendation</th>\n",
       "      <th>GTN contributor</th>\n",
       "      <th>GTN future contributor</th>\n",
       "    </tr>\n",
       "  </thead>\n",
       "  <tbody>\n",
       "    <tr>\n",
       "      <th>10</th>\n",
       "      <td>29.01.2020 kl. 14.25.43</td>\n",
       "      <td>True</td>\n",
       "      <td>6</td>\n",
       "      <td>False</td>\n",
       "      <td>0</td>\n",
       "      <td>0</td>\n",
       "      <td>0</td>\n",
       "      <td></td>\n",
       "      <td>Private Server</td>\n",
       "      <td>False</td>\n",
       "      <td>0</td>\n",
       "      <td>0</td>\n",
       "      <td>False</td>\n",
       "      <td>True</td>\n",
       "    </tr>\n",
       "    <tr>\n",
       "      <th>11</th>\n",
       "      <td>29.01.2020 kl. 15.50.10</td>\n",
       "      <td>True</td>\n",
       "      <td>3</td>\n",
       "      <td>False</td>\n",
       "      <td>0</td>\n",
       "      <td>0</td>\n",
       "      <td>0</td>\n",
       "      <td></td>\n",
       "      <td>Private Server</td>\n",
       "      <td>False</td>\n",
       "      <td>0</td>\n",
       "      <td>0</td>\n",
       "      <td>False</td>\n",
       "      <td>True</td>\n",
       "    </tr>\n",
       "    <tr>\n",
       "      <th>12</th>\n",
       "      <td>30.01.2020 kl. 07.47.29</td>\n",
       "      <td>True</td>\n",
       "      <td>25</td>\n",
       "      <td>True</td>\n",
       "      <td>20</td>\n",
       "      <td>5</td>\n",
       "      <td>5</td>\n",
       "      <td>Hands-on tutorials, Slide decks, Data librarie...</td>\n",
       "      <td>Australian Galaxy server (https://usegalaxy.or...</td>\n",
       "      <td>True</td>\n",
       "      <td>5</td>\n",
       "      <td>5</td>\n",
       "      <td>False</td>\n",
       "      <td>True</td>\n",
       "    </tr>\n",
       "    <tr>\n",
       "      <th>14</th>\n",
       "      <td>02.02.2020 kl. 16.50.36</td>\n",
       "      <td>True</td>\n",
       "      <td>2</td>\n",
       "      <td>False</td>\n",
       "      <td>0</td>\n",
       "      <td>0</td>\n",
       "      <td>0</td>\n",
       "      <td></td>\n",
       "      <td>European Galaxy server (https://usegalaxy.eu/)...</td>\n",
       "      <td>False</td>\n",
       "      <td>0</td>\n",
       "      <td>0</td>\n",
       "      <td>False</td>\n",
       "      <td>True</td>\n",
       "    </tr>\n",
       "    <tr>\n",
       "      <th>17</th>\n",
       "      <td>10.02.2020 kl. 12.54.05</td>\n",
       "      <td>True</td>\n",
       "      <td>7</td>\n",
       "      <td>True</td>\n",
       "      <td>3</td>\n",
       "      <td>5</td>\n",
       "      <td>5</td>\n",
       "      <td>Hands-on tutorials, Slide decks, Training Phil...</td>\n",
       "      <td>European Galaxy server (https://usegalaxy.eu/)...</td>\n",
       "      <td>True</td>\n",
       "      <td>5</td>\n",
       "      <td>5</td>\n",
       "      <td>False</td>\n",
       "      <td>False</td>\n",
       "    </tr>\n",
       "    <tr>\n",
       "      <th>20</th>\n",
       "      <td>18.02.2021 kl. 16.46.25</td>\n",
       "      <td>True</td>\n",
       "      <td>3</td>\n",
       "      <td>True</td>\n",
       "      <td>3</td>\n",
       "      <td>5</td>\n",
       "      <td>5</td>\n",
       "      <td>Hands-on tutorials, Material on teaching and h...</td>\n",
       "      <td>European Galaxy server (https://usegalaxy.eu/)...</td>\n",
       "      <td>True</td>\n",
       "      <td>5</td>\n",
       "      <td>5</td>\n",
       "      <td>False</td>\n",
       "      <td>False</td>\n",
       "    </tr>\n",
       "    <tr>\n",
       "      <th>27</th>\n",
       "      <td>30.09.2021 kl. 15.47.55</td>\n",
       "      <td>True</td>\n",
       "      <td>1</td>\n",
       "      <td>False</td>\n",
       "      <td>0</td>\n",
       "      <td>0</td>\n",
       "      <td>0</td>\n",
       "      <td></td>\n",
       "      <td>Private Server</td>\n",
       "      <td>False</td>\n",
       "      <td>0</td>\n",
       "      <td>0</td>\n",
       "      <td>False</td>\n",
       "      <td>True</td>\n",
       "    </tr>\n",
       "    <tr>\n",
       "      <th>28</th>\n",
       "      <td>30.09.2021 kl. 16.43.01</td>\n",
       "      <td>True</td>\n",
       "      <td>0</td>\n",
       "      <td>False</td>\n",
       "      <td>0</td>\n",
       "      <td>0</td>\n",
       "      <td>0</td>\n",
       "      <td></td>\n",
       "      <td>Main Galaxy server (https://usegalaxy.org/), E...</td>\n",
       "      <td>False</td>\n",
       "      <td>0</td>\n",
       "      <td>0</td>\n",
       "      <td>False</td>\n",
       "      <td>False</td>\n",
       "    </tr>\n",
       "    <tr>\n",
       "      <th>31</th>\n",
       "      <td>18.10.2021 kl. 12.09.53</td>\n",
       "      <td>True</td>\n",
       "      <td>1</td>\n",
       "      <td>False</td>\n",
       "      <td>0</td>\n",
       "      <td>0</td>\n",
       "      <td>0</td>\n",
       "      <td></td>\n",
       "      <td>European Galaxy server (https://usegalaxy.eu/)</td>\n",
       "      <td>True</td>\n",
       "      <td>3</td>\n",
       "      <td>3</td>\n",
       "      <td>False</td>\n",
       "      <td>False</td>\n",
       "    </tr>\n",
       "  </tbody>\n",
       "</table>\n",
       "</div>"
      ],
      "text/plain": [
       "                  Tidsmerke  Use in last 3 years  Number of training events  \\\n",
       "10  29.01.2020 kl. 14.25.43                 True                          6   \n",
       "11  29.01.2020 kl. 15.50.10                 True                          3   \n",
       "12  30.01.2020 kl. 07.47.29                 True                         25   \n",
       "14  02.02.2020 kl. 16.50.36                 True                          2   \n",
       "17  10.02.2020 kl. 12.54.05                 True                          7   \n",
       "20  18.02.2021 kl. 16.46.25                 True                          3   \n",
       "27  30.09.2021 kl. 15.47.55                 True                          1   \n",
       "28  30.09.2021 kl. 16.43.01                 True                          0   \n",
       "31  18.10.2021 kl. 12.09.53                 True                          1   \n",
       "\n",
       "    GTN usage  GTN events  GTN rate  GTN recommendation  \\\n",
       "10      False           0         0                   0   \n",
       "11      False           0         0                   0   \n",
       "12       True          20         5                   5   \n",
       "14      False           0         0                   0   \n",
       "17       True           3         5                   5   \n",
       "20       True           3         5                   5   \n",
       "27      False           0         0                   0   \n",
       "28      False           0         0                   0   \n",
       "31      False           0         0                   0   \n",
       "\n",
       "                                             Features  \\\n",
       "10                                                      \n",
       "11                                                      \n",
       "12  Hands-on tutorials, Slide decks, Data librarie...   \n",
       "14                                                      \n",
       "17  Hands-on tutorials, Slide decks, Training Phil...   \n",
       "20  Hands-on tutorials, Material on teaching and h...   \n",
       "27                                                      \n",
       "28                                                      \n",
       "31                                                      \n",
       "\n",
       "                                              Servers  TiaaS usage  \\\n",
       "10                                     Private Server        False   \n",
       "11                                     Private Server        False   \n",
       "12  Australian Galaxy server (https://usegalaxy.or...         True   \n",
       "14  European Galaxy server (https://usegalaxy.eu/)...        False   \n",
       "17  European Galaxy server (https://usegalaxy.eu/)...         True   \n",
       "20  European Galaxy server (https://usegalaxy.eu/)...         True   \n",
       "27                                     Private Server        False   \n",
       "28  Main Galaxy server (https://usegalaxy.org/), E...        False   \n",
       "31     European Galaxy server (https://usegalaxy.eu/)         True   \n",
       "\n",
       "    TiaaS rate  TiaaS recommendation  GTN contributor GTN future contributor  \n",
       "10           0                     0            False                   True  \n",
       "11           0                     0            False                   True  \n",
       "12           5                     5            False                   True  \n",
       "14           0                     0            False                   True  \n",
       "17           5                     5            False                  False  \n",
       "20           5                     5            False                  False  \n",
       "27           0                     0            False                   True  \n",
       "28           0                     0            False                  False  \n",
       "31           3                     3            False                  False  "
      ]
     },
     "execution_count": 32,
     "metadata": {},
     "output_type": "execute_result"
    }
   ],
   "source": [
    "not_gtn_contributors = did_training_df[~did_training_df['GTN contributor']]\n",
    "not_gtn_contributors"
   ]
  },
  {
   "cell_type": "code",
   "execution_count": 31,
   "id": "e5b85e95",
   "metadata": {},
   "outputs": [
    {
     "data": {
      "text/plain": [
       "55.55555555555556"
      ]
     },
     "execution_count": 31,
     "metadata": {},
     "output_type": "execute_result"
    }
   ],
   "source": [
    "sum(not_gtn_contributors['GTN future contributor'])  / len(not_gtn_contributors) * 100"
   ]
  }
 ],
 "metadata": {
  "kernelspec": {
   "display_name": "Python 3 (ipykernel)",
   "language": "python",
   "name": "python3"
  },
  "language_info": {
   "codemirror_mode": {
    "name": "ipython",
    "version": 3
   },
   "file_extension": ".py",
   "mimetype": "text/x-python",
   "name": "python",
   "nbconvert_exporter": "python",
   "pygments_lexer": "ipython3",
   "version": "3.9.6"
  }
 },
 "nbformat": 4,
 "nbformat_minor": 5
}
